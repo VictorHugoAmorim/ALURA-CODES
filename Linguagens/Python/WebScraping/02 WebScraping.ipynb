{
 "cells": [
  {
   "cell_type": "markdown",
   "id": "4caec84d",
   "metadata": {},
   "source": [
    "# WebScraping "
   ]
  },
  {
   "cell_type": "markdown",
   "id": "c63c0069",
   "metadata": {},
   "source": [
    "* Informar a URL\n",
    "* Fazer a requisição\n",
    "* Informar o Cabeçalho para a classe 'request'\n",
    "* abrir a url"
   ]
  },
  {
   "cell_type": "code",
   "execution_count": null,
   "id": "f0242903",
   "metadata": {},
   "outputs": [],
   "source": [
    "from urllib.request import Request, urlopen\n",
    "from urllib.error import URLError, HTTPError\n",
    "\n",
    "url = 'https://www.alura.com.br'\n",
    "# Caputrando o cabeçaçlho [inspencionar -> Network -> Headres -> Requesheaders]\n",
    "headers = {'User-Agent': 'Mozilla/5.0 (Windows NT 10.0; Win64; x64) AppleWebKit/537.36 (KHTML, like Gecko) Chrome/97.0.4692.71 Safari/537.36'}\n",
    "\n",
    "try:\n",
    "    req = Request(url, headers = headers)\n",
    "    response = urlopen(req)\n",
    "    print(response.read())\n",
    "\n",
    "except HTTPError as e:\n",
    "    print(e.status, e.reason)\n",
    "\n",
    "except URLError as u:\n",
    "    print(u.reason)"
   ]
  },
  {
   "cell_type": "markdown",
   "id": "b4ac8390",
   "metadata": {},
   "source": [
    "## Tratando Strings"
   ]
  },
  {
   "cell_type": "code",
   "execution_count": null,
   "id": "d610a7f7",
   "metadata": {},
   "outputs": [],
   "source": [
    "from urllib.request import urlopen\n",
    "\n",
    "url = 'https://alura-site-scraping.herokuapp.com/index.php'\n",
    "\n",
    "response = urlopen(url)\n",
    "html = response.read()\n",
    "html"
   ]
  },
  {
   "cell_type": "code",
   "execution_count": null,
   "id": "782a03f8",
   "metadata": {},
   "outputs": [],
   "source": [
    "html = html.decode('utf-8')\n",
    "type(html)"
   ]
  },
  {
   "cell_type": "code",
   "execution_count": null,
   "id": "1d425473",
   "metadata": {},
   "outputs": [],
   "source": [
    "#Eliminando as tabulações e quebras de linhas\n",
    "\n",
    "\" \".join(html.split())"
   ]
  },
  {
   "cell_type": "code",
   "execution_count": null,
   "id": "f1a50919",
   "metadata": {},
   "outputs": [],
   "source": [
    "#Eliminando espaços em braanco entre Tags\n",
    "\n",
    "html = \" \".join(html.split()).replace('> <','><')\n",
    "html"
   ]
  },
  {
   "cell_type": "markdown",
   "id": "0dcfa6a0",
   "metadata": {},
   "source": [
    "# Entendendo o Html"
   ]
  },
  {
   "cell_type": "markdown",
   "id": "b6cd8e9c",
   "metadata": {},
   "source": [
    "**HTML** (*HyperText Markup Language*) é uma linguagem de marcação composta por **tags** que deteminam o papel que cada parte do documento vai assumir. As **tags** são formadas pelo seu nome e atributos. Os atributos servem para configurar e também modificar as características padrões de uma **tag**.\n",
    "\n",
    "## Estrutura básica\n",
    "\n",
    "```html\n",
    "<html>\n",
    "    <head>\n",
    "        <meta charset=\"utf-8\" />\n",
    "        <title>Alura Motors</title>\n",
    "    </head>\n",
    "    <body>\n",
    "        <div id=\"container\">\n",
    "            <h1>Alura</h1>\n",
    "            <h2 class=\"formato\">Cursos de Tecnologia</h2>\n",
    "            <p>Você vai estudar, praticar, discutir e aprender.</p>\n",
    "            <a href=\"https://www.alura.com.br/\">Clique aqui</a>\n",
    "        </div>\n",
    "    </body>\n",
    "</html>\n",
    "```\n",
    "\n",
    "```<html>``` - determina o início do documento.\n",
    "\n",
    "```<head>``` - cabeçalho. Contém informações e configurações do documento.\n",
    "\n",
    "```<body>``` - é o corpo do documento, onde todo o conteúdo é colocado. Esta é a parte visível em um navegador.\n",
    "\n",
    "## Tags mais comuns\n",
    "\n",
    "```<div>``` - define uma divisão da página. Pode ser formatada de diversas maneiras.\n",
    "\n",
    "```<h1>, <h2>, <h3>, <h4>, <h5>, <h6>``` - marcadores de títulos.\n",
    "\n",
    "```<p>``` - marcador de parágrafo.\n",
    "\n",
    "```<a>``` - hiperlink.\n",
    "\n",
    "```<img>``` - exibição de imagens.\n",
    "\n",
    "```<table>``` - definição de tabelas.\n",
    "\n",
    "```<ul>, <li>``` - definição de listas.\n"
   ]
  },
  {
   "cell_type": "markdown",
   "id": "d74f8ec6",
   "metadata": {},
   "source": [
    "## Importando o beautiful soup"
   ]
  },
  {
   "cell_type": "code",
   "execution_count": null,
   "id": "0f1d4121",
   "metadata": {},
   "outputs": [],
   "source": [
    "from bs4 import BeautifulSoup as bs\n",
    "\n",
    "soup = bs(html, 'html.parser')\n",
    "\n",
    "soup"
   ]
  },
  {
   "cell_type": "code",
   "execution_count": null,
   "id": "f33dbff3",
   "metadata": {},
   "outputs": [],
   "source": [
    "type(soup)"
   ]
  },
  {
   "cell_type": "code",
   "execution_count": null,
   "id": "a8087302",
   "metadata": {},
   "outputs": [],
   "source": [
    "print(soup.prettify())"
   ]
  },
  {
   "cell_type": "code",
   "execution_count": null,
   "id": "71bc5bbf",
   "metadata": {},
   "outputs": [],
   "source": [
    "# Chegando no parâmetro pelo caminho\n",
    "soup.html.head.title"
   ]
  },
  {
   "cell_type": "code",
   "execution_count": null,
   "id": "a6f9b43e",
   "metadata": {},
   "outputs": [],
   "source": [
    "# Capturando o conteúdo da tag\n",
    "soup.h5.getText()"
   ]
  },
  {
   "cell_type": "code",
   "execution_count": null,
   "id": "b4101645",
   "metadata": {},
   "outputs": [],
   "source": [
    "# Retorna primeira tag de imagem\n",
    "soup.img"
   ]
  },
  {
   "cell_type": "code",
   "execution_count": null,
   "id": "3b6b22f4",
   "metadata": {},
   "outputs": [],
   "source": [
    "# Acessa o atributo da tag e retorna um dict\n",
    "soup.img.attrs\n",
    "soup.img.attrs.keys()\n",
    "soup.img.attrs.values()"
   ]
  },
  {
   "cell_type": "code",
   "execution_count": null,
   "id": "e5ee4479",
   "metadata": {},
   "outputs": [],
   "source": []
  }
 ],
 "metadata": {
  "kernelspec": {
   "display_name": "Python 3 (ipykernel)",
   "language": "python",
   "name": "python3"
  },
  "language_info": {
   "codemirror_mode": {
    "name": "ipython",
    "version": 3
   },
   "file_extension": ".py",
   "mimetype": "text/x-python",
   "name": "python",
   "nbconvert_exporter": "python",
   "pygments_lexer": "ipython3",
   "version": "3.9.7"
  }
 },
 "nbformat": 4,
 "nbformat_minor": 5
}
