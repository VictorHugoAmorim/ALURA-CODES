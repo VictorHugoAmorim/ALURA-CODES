{
 "cells": [
  {
   "cell_type": "markdown",
   "id": "4caec84d",
   "metadata": {},
   "source": [
    "# WebScraping "
   ]
  },
  {
   "cell_type": "markdown",
   "id": "c63c0069",
   "metadata": {},
   "source": [
    "* Informar a URL\n",
    "* Fazer a requisição\n",
    "* Informar o Cabeçalho para a classe 'request'\n",
    "* abrir a url"
   ]
  },
  {
   "cell_type": "code",
   "execution_count": null,
   "id": "f0242903",
   "metadata": {},
   "outputs": [],
   "source": [
    "from urllib.request import Request, urlopen\n",
    "from urllib.error import URLError, HTTPError\n",
    "\n",
    "url = 'https://www.alura.com.br'\n",
    "# Caputrando o cabeçaçlho [inspencionar -> Network -> Headres -> Requesheaders]\n",
    "headers = {'User-Agent': 'Mozilla/5.0 (Windows NT 10.0; Win64; x64) AppleWebKit/537.36 (KHTML, like Gecko) Chrome/97.0.4692.71 Safari/537.36'}\n",
    "\n",
    "try:\n",
    "    req = Request(url, headers = headers)\n",
    "    response = urlopen(req)\n",
    "    print(response.read())\n",
    "\n",
    "except HTTPError as e:\n",
    "    print(e.status, e.reason)\n",
    "\n",
    "except URLError as u:\n",
    "    print(u.reason)"
   ]
  },
  {
   "cell_type": "markdown",
   "id": "b4ac8390",
   "metadata": {},
   "source": [
    "## Tratando Strings"
   ]
  },
  {
   "cell_type": "code",
   "execution_count": null,
   "id": "d610a7f7",
   "metadata": {},
   "outputs": [],
   "source": [
    "from urllib.request import urlopen\n",
    "\n",
    "url = 'https://alura-site-scraping.herokuapp.com/index.php'\n",
    "\n",
    "response = urlopen(url)\n",
    "html = response.read()\n",
    "html"
   ]
  },
  {
   "cell_type": "code",
   "execution_count": null,
   "id": "782a03f8",
   "metadata": {},
   "outputs": [],
   "source": [
    "html = html.decode('utf-8')\n",
    "type(html)"
   ]
  },
  {
   "cell_type": "code",
   "execution_count": null,
   "id": "1d425473",
   "metadata": {},
   "outputs": [],
   "source": [
    "#Eliminando as tabulações e quebras de linhas\n",
    "\n",
    "\" \".join(html.split())"
   ]
  },
  {
   "cell_type": "code",
   "execution_count": null,
   "id": "f1a50919",
   "metadata": {},
   "outputs": [],
   "source": [
    "#Eliminando espaços em braanco entre Tags\n",
    "\n",
    "html = \" \".join(html.split()).replace('> <','><')\n",
    "html"
   ]
  },
  {
   "cell_type": "code",
   "execution_count": null,
   "id": "c00075e5",
   "metadata": {},
   "outputs": [],
   "source": []
  }
 ],
 "metadata": {
  "kernelspec": {
   "display_name": "Python 3 (ipykernel)",
   "language": "python",
   "name": "python3"
  },
  "language_info": {
   "codemirror_mode": {
    "name": "ipython",
    "version": 3
   },
   "file_extension": ".py",
   "mimetype": "text/x-python",
   "name": "python",
   "nbconvert_exporter": "python",
   "pygments_lexer": "ipython3",
   "version": "3.9.7"
  }
 },
 "nbformat": 4,
 "nbformat_minor": 5
}
